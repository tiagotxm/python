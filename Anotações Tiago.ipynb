{
 "cells": [
  {
   "cell_type": "markdown",
   "metadata": {},
   "source": [
    "# Curso de Python - Anotações"
   ]
  },
  {
   "cell_type": "markdown",
   "metadata": {},
   "source": [
    "# Capitulo 2"
   ]
  },
  {
   "cell_type": "markdown",
   "metadata": {},
   "source": [
    "# Estrutura de dados"
   ]
  },
  {
   "cell_type": "markdown",
   "metadata": {},
   "source": [
    "# *Listas\n",
    "As listas são grupos ordenados de elementos"
   ]
  },
  {
   "cell_type": "code",
   "execution_count": null,
   "metadata": {},
   "outputs": [],
   "source": [
    "#Criar uma lista - utilizado o colchetes\n",
    "lista1= [\"a\",\"b\"]"
   ]
  },
  {
   "cell_type": "code",
   "execution_count": null,
   "metadata": {},
   "outputs": [],
   "source": [
    "#adicionar um elemento na lista criada e imprimir\n",
    "lista1.append(\"c\")\n",
    "lista1"
   ]
  },
  {
   "cell_type": "code",
   "execution_count": null,
   "metadata": {},
   "outputs": [],
   "source": [
    "#adicionar um elemento na lista em um índice específico\n",
    "lista1.insert(3,\"tiago\")"
   ]
  },
  {
   "cell_type": "code",
   "execution_count": null,
   "metadata": {},
   "outputs": [],
   "source": [
    "#adicionar um elemento da lista2 na lista 1 e imprimir\n",
    "lista2=[\"azul\",\"preto\"]\n",
    "lista1.extend(lista2);\n",
    "lista1"
   ]
  },
  {
   "cell_type": "code",
   "execution_count": null,
   "metadata": {},
   "outputs": [],
   "source": [
    "#encontrar posição/índice de um conteúdo na lista\n",
    "lista1.index(\"tiago\")"
   ]
  },
  {
   "cell_type": "code",
   "execution_count": null,
   "metadata": {},
   "outputs": [],
   "source": [
    "#verificando o tamanho da lista\n",
    "len(lista1)"
   ]
  },
  {
   "cell_type": "code",
   "execution_count": null,
   "metadata": {},
   "outputs": [],
   "source": [
    "#remover um elemento da lista pelo index\n",
    "del lista1[1]"
   ]
  },
  {
   "cell_type": "code",
   "execution_count": null,
   "metadata": {},
   "outputs": [],
   "source": [
    "#remover um elemento da lista pelo conteúdo\n",
    "lista1.remove(\"a\")\n",
    "lista1"
   ]
  },
  {
   "cell_type": "markdown",
   "metadata": {},
   "source": [
    "# *Dicionários\n",
    "Os dicionários são mapeamentos(par) de chaves e valores(pode ser entendido como JSON) \n",
    "<br>Ex: {chave1:valor1,chave2:valor2}"
   ]
  },
  {
   "cell_type": "code",
   "execution_count": null,
   "metadata": {},
   "outputs": [],
   "source": [
    "#criando um dicionario\n",
    "dict = {}"
   ]
  },
  {
   "cell_type": "code",
   "execution_count": null,
   "metadata": {},
   "outputs": [],
   "source": [
    "dict"
   ]
  },
  {
   "cell_type": "code",
   "execution_count": null,
   "metadata": {},
   "outputs": [],
   "source": [
    "#adicionando um elemento ao dicionario\n",
    "dict[\"chave2\"]=\"tiago\""
   ]
  },
  {
   "cell_type": "code",
   "execution_count": null,
   "metadata": {},
   "outputs": [],
   "source": [
    "#retorna o nome das chaves \n",
    "dict.keys()"
   ]
  },
  {
   "cell_type": "code",
   "execution_count": null,
   "metadata": {},
   "outputs": [],
   "source": [
    "#retorna os valores das chaves\n",
    "dict.values()"
   ]
  },
  {
   "cell_type": "code",
   "execution_count": null,
   "metadata": {},
   "outputs": [],
   "source": [
    "#retorna o mapeamento(par) do dicionario\n",
    "dict.items()"
   ]
  },
  {
   "cell_type": "markdown",
   "metadata": {},
   "source": [
    "# *Tuplas\n",
    "As tuplas são semelhante a listas, porem são imutáveis(ex: dias da semana, meses) - fornece uma forma de integridade de dados"
   ]
  },
  {
   "cell_type": "code",
   "execution_count": null,
   "metadata": {},
   "outputs": [],
   "source": [
    "#Criando uma tupla \n",
    "tupla1=(\"tiago\",\"bruna\",\"amora\")"
   ]
  },
  {
   "cell_type": "code",
   "execution_count": null,
   "metadata": {},
   "outputs": [],
   "source": [
    "#Tuplas não permitem alteração, logo seja necessário modifica-lá, posso converter a tupla em lista\n",
    "lista_tupla1 = list(tupla1)"
   ]
  },
  {
   "cell_type": "code",
   "execution_count": null,
   "metadata": {},
   "outputs": [],
   "source": [
    "lista_tupla1.append(\"Tereza\")"
   ]
  },
  {
   "cell_type": "code",
   "execution_count": null,
   "metadata": {},
   "outputs": [],
   "source": [
    "lista_tupla1"
   ]
  },
  {
   "cell_type": "code",
   "execution_count": null,
   "metadata": {},
   "outputs": [],
   "source": [
    "#convertar a lista criada em tupla\n",
    "tupla1=tuple(lista_tupla1)"
   ]
  },
  {
   "cell_type": "code",
   "execution_count": null,
   "metadata": {},
   "outputs": [],
   "source": [
    "tupla1"
   ]
  },
  {
   "cell_type": "markdown",
   "metadata": {},
   "source": [
    "# Capitulo 3"
   ]
  },
  {
   "cell_type": "markdown",
   "metadata": {},
   "source": [
    "# Estruturas condicionais"
   ]
  },
  {
   "cell_type": "markdown",
   "metadata": {},
   "source": [
    "# *IF,ELSE,ELIF"
   ]
  },
  {
   "cell_type": "code",
   "execution_count": null,
   "metadata": {},
   "outputs": [],
   "source": [
    "#Importante ficar atento aos 2 pontos e a indentacao(4 espacos ou 1 tab) do bloco if\n",
    "x=2\n",
    "if x > 1:\n",
    "    print('Sucesso')\n",
    "    "
   ]
  },
  {
   "cell_type": "code",
   "execution_count": null,
   "metadata": {},
   "outputs": [],
   "source": [
    "#Em muito casos havera a necessidade de usar o condicional ELIF em python\n",
    "#Torna o codigo mais limpo sem a necessidade de criar ifs aninhados\n",
    "x = 10\n",
    "if x>=18:\n",
    "    print('Voce pode dirigir')\n",
    "elif x==17:\n",
    "    print('Ano que vem voce podera dirigir')\n",
    "else:\n",
    "    print('Voce nao pode dirigir')"
   ]
  },
  {
   "cell_type": "markdown",
   "metadata": {},
   "source": [
    "<b><h3>Placeholders</h3></b>\n",
    "#Permitem exibir uma mensagem personalizada"
   ]
  },
  {
   "cell_type": "code",
   "execution_count": null,
   "metadata": {},
   "outputs": [],
   "source": [
    "#variavel que recebe o que o usuario digitar pela funcao input\n",
    "nome = input('Digite seu primeiro nome: ')\n",
    "idade = input('Digite sua idade: ')\n",
    "\n",
    "#validacao e print da mensagem personalizada usando placeholders\n",
    "if(int(idade) >= 18):\n",
    "    print('Bem vindo %s, sua idade é %s'%(nome,idade))\n",
    "else:\n",
    "    print('Por favor %s, faça 18 anos e tente novamente ;D'%(nome))"
   ]
  },
  {
   "cell_type": "markdown",
   "metadata": {},
   "source": [
    "# Estruturas de repeticao"
   ]
  },
  {
   "cell_type": "markdown",
   "metadata": {},
   "source": [
    "# * FOR"
   ]
  },
  {
   "cell_type": "code",
   "execution_count": null,
   "metadata": {},
   "outputs": [],
   "source": [
    "for i in range(0,5):\n",
    "    print(i)"
   ]
  },
  {
   "cell_type": "markdown",
   "metadata": {},
   "source": [
    "* FOR Aninhado<br/>\n",
    "#Comum ao manipular matrizes(linha,coluna). Percorrer cada celula da matriz para manipulacao"
   ]
  },
  {
   "cell_type": "code",
   "execution_count": null,
   "metadata": {},
   "outputs": [],
   "source": [
    "#loop externo\n",
    "for i in range(0,5):\n",
    "    #loop interno\n",
    "    for a in range(0,5):\n",
    "        print(a)"
   ]
  },
  {
   "cell_type": "code",
   "execution_count": null,
   "metadata": {},
   "outputs": [],
   "source": [
    "#Percorrendo uma lista\n",
    "listaA = [1,10,20,100]\n",
    "\n",
    "for i in listaA:\n",
    "    if(i==10):\n",
    "        print('Valor 10 encontrado')"
   ]
  },
  {
   "cell_type": "code",
   "execution_count": null,
   "metadata": {},
   "outputs": [],
   "source": [
    "#Listando chaves de um dicionario\n",
    "dicionario = {'Jose':'25','Maria':'50','Joaozinho':'40'}\n",
    "\n",
    "print('Chaves do dicionario')\n",
    "for i in dicionario.keys():\n",
    "    print(i)\n",
    "print()\n",
    "print('Valores do dicionario')\n",
    "for i in dicionario.values():\n",
    "    print(i)\n",
    "    "
   ]
  },
  {
   "cell_type": "markdown",
   "metadata": {},
   "source": [
    "# * While"
   ]
  },
  {
   "cell_type": "code",
   "execution_count": null,
   "metadata": {},
   "outputs": [],
   "source": [
    "while(expressao1):\n",
    "    print('Hello')"
   ]
  },
  {
   "cell_type": "code",
   "execution_count": null,
   "metadata": {},
   "outputs": [],
   "source": [
    "x = 0\n",
    "while(x<10):\n",
    "    print(x)\n",
    "    x+=1\n",
    "else:\n",
    "    print('Loop concluido')"
   ]
  },
  {
   "cell_type": "markdown",
   "metadata": {},
   "source": [
    "# Pass,break,continue"
   ]
  },
  {
   "cell_type": "code",
   "execution_count": null,
   "metadata": {},
   "outputs": [],
   "source": [
    "x=0\n",
    "while (x<10):\n",
    "    if x==5:\n",
    "        break # paro a repeticao\n",
    "    else:\n",
    "        #condicao para seguir em frente\n",
    "        pass\n",
    "        print(x)\n",
    "        x+=1\n"
   ]
  },
  {
   "cell_type": "code",
   "execution_count": null,
   "metadata": {},
   "outputs": [],
   "source": [
    "curso='Data Science'\n",
    "for caracter in curso:\n",
    "    if(caracter=='a'):\n",
    "        continue # permite que quando a condicao acima for verdadeira, salto esse caracter e prossigo com no bloco\n",
    "    else:\n",
    "        print(caracter)"
   ]
  },
  {
   "cell_type": "markdown",
   "metadata": {},
   "source": [
    "# Range\n",
    "-Permite criar uma lista de numeros em um intervalo específico<br/><br/>\n",
    "sintaxe: range([star],[stop],[step])<br/>\n",
    "star -> valor inicial da sequencia<br/>\n",
    "stop -> valor final da sequencia(não incluso=exclusivo)<br/>\n",
    "step -> salto(caso omita, o default é 1"
   ]
  },
  {
   "cell_type": "code",
   "execution_count": null,
   "metadata": {},
   "outputs": [],
   "source": [
    "for i in range(50,101,2):\n",
    "    print(i)"
   ]
  },
  {
   "cell_type": "markdown",
   "metadata": {},
   "source": [
    "# Métodos\n",
    "* funcoes incorporadas em objetos, permitem executar acoes especificas : (parenteses)"
   ]
  },
  {
   "cell_type": "code",
   "execution_count": 1,
   "metadata": {},
   "outputs": [],
   "source": [
    "#cria uma lista\n",
    "lst = [100,1,300,4]"
   ]
  },
  {
   "cell_type": "code",
   "execution_count": 2,
   "metadata": {},
   "outputs": [
    {
     "name": "stdout",
     "output_type": "stream",
     "text": [
      "[100, 1, 300, 4, 20]\n"
     ]
    }
   ],
   "source": [
    "#adicionando o metodo do tipo lista\n",
    "lst.append(20)\n",
    "print(lst)"
   ]
  },
  {
   "cell_type": "code",
   "execution_count": 4,
   "metadata": {},
   "outputs": [
    {
     "name": "stdout",
     "output_type": "stream",
     "text": [
      "Help on built-in function count:\n",
      "\n",
      "count(value, /) method of builtins.list instance\n",
      "    Return number of occurrences of value.\n",
      "\n"
     ]
    }
   ],
   "source": [
    "#consulta documentacao sobre determinado metodo\n",
    "help(lst.count)"
   ]
  },
  {
   "cell_type": "code",
   "execution_count": 5,
   "metadata": {},
   "outputs": [
    {
     "data": {
      "text/plain": [
       "['__add__',\n",
       " '__class__',\n",
       " '__contains__',\n",
       " '__delattr__',\n",
       " '__delitem__',\n",
       " '__dir__',\n",
       " '__doc__',\n",
       " '__eq__',\n",
       " '__format__',\n",
       " '__ge__',\n",
       " '__getattribute__',\n",
       " '__getitem__',\n",
       " '__gt__',\n",
       " '__hash__',\n",
       " '__iadd__',\n",
       " '__imul__',\n",
       " '__init__',\n",
       " '__init_subclass__',\n",
       " '__iter__',\n",
       " '__le__',\n",
       " '__len__',\n",
       " '__lt__',\n",
       " '__mul__',\n",
       " '__ne__',\n",
       " '__new__',\n",
       " '__reduce__',\n",
       " '__reduce_ex__',\n",
       " '__repr__',\n",
       " '__reversed__',\n",
       " '__rmul__',\n",
       " '__setattr__',\n",
       " '__setitem__',\n",
       " '__sizeof__',\n",
       " '__str__',\n",
       " '__subclasshook__',\n",
       " 'append',\n",
       " 'clear',\n",
       " 'copy',\n",
       " 'count',\n",
       " 'extend',\n",
       " 'index',\n",
       " 'insert',\n",
       " 'pop',\n",
       " 'remove',\n",
       " 'reverse',\n",
       " 'sort']"
      ]
     },
     "execution_count": 5,
     "metadata": {},
     "output_type": "execute_result"
    }
   ],
   "source": [
    "#exibe todos os atributos e metodos do objeto\n",
    "dir(lst)"
   ]
  },
  {
   "cell_type": "markdown",
   "metadata": {},
   "source": [
    "# Funções\n",
    "* Instruções que podem ser reutilizadas quantas vezes necessário. Lógica em unico \"pacote\"logica\n",
    "\n",
    "def nome_da_funcao(arg1,arg2):<br/>\n",
    "    \"   comentarios da funcao, o que ela faz\"<br/>\n",
    "    \"...codigo...\"\n"
   ]
  },
  {
   "cell_type": "code",
   "execution_count": 6,
   "metadata": {},
   "outputs": [],
   "source": [
    "#criando definição da função\n",
    "def primeiraFunc():\n",
    "    print('Hello World')"
   ]
  },
  {
   "cell_type": "code",
   "execution_count": 8,
   "metadata": {},
   "outputs": [
    {
     "name": "stdout",
     "output_type": "stream",
     "text": [
      "Hello World\n"
     ]
    }
   ],
   "source": [
    "#chamando a função\n",
    "primeiraFunc()"
   ]
  },
  {
   "cell_type": "code",
   "execution_count": 9,
   "metadata": {},
   "outputs": [],
   "source": [
    "def primeiraFunc(nome):\n",
    "    print('Hello %s'%(nome))"
   ]
  },
  {
   "cell_type": "code",
   "execution_count": 11,
   "metadata": {},
   "outputs": [
    {
     "name": "stdout",
     "output_type": "stream",
     "text": [
      "Hello tiago\n"
     ]
    }
   ],
   "source": [
    "primeiraFunc('tiago')"
   ]
  },
  {
   "cell_type": "code",
   "execution_count": 19,
   "metadata": {},
   "outputs": [],
   "source": [
    "#funcao com numero de argumentos dinâmico(*)\n",
    "def func(arg1,*x):\n",
    "    print('Primeiro argumento:',arg1)\n",
    "    \n",
    "    for i in x:\n",
    "        print('Demais parametros:',i)\n"
   ]
  },
  {
   "cell_type": "code",
   "execution_count": 20,
   "metadata": {},
   "outputs": [
    {
     "name": "stdout",
     "output_type": "stream",
     "text": [
      "Primeiro argumento: 1\n"
     ]
    }
   ],
   "source": [
    "func(1)"
   ]
  },
  {
   "cell_type": "code",
   "execution_count": 21,
   "metadata": {},
   "outputs": [
    {
     "name": "stdout",
     "output_type": "stream",
     "text": [
      "Primeiro argumento: 1\n",
      "Demais parametros: 2\n",
      "Demais parametros: Tiago\n"
     ]
    }
   ],
   "source": [
    "func(1,2,'Tiago')"
   ]
  },
  {
   "cell_type": "markdown",
   "metadata": {},
   "source": [
    "# Expressões Lambda\n",
    "*Permitem criar funcoes anônimas,in-line(lambda são ad-hoc - criadas em tempo de execução)<br/>\n",
    "*O corpo lambda é feita em uma única expressão, não um bloco de instruções\n",
    "\n",
    "Ex: lambda x:x**2 \n",
    "\n",
    "<b><u>lambda x def</u></b>\n",
    "\n",
    "<b>def:</b><br/>*cria um objeto e possui um nome a ele(nome da função)<br/>\n",
    "<b>lambda:</b><br/> *cria também um objeto, mas o retorno é o resultado em tempo de execução<br/>\n",
    "       *é uma função, porem não precisa definir um nome, daí vem o significado de anônima."
   ]
  },
  {
   "cell_type": "code",
   "execution_count": 1,
   "metadata": {},
   "outputs": [],
   "source": [
    "#criando uma função lambda atribuindo a uma variavel 'x'\n",
    "x = lambda parametro: parametro+1"
   ]
  },
  {
   "cell_type": "code",
   "execution_count": 2,
   "metadata": {},
   "outputs": [
    {
     "data": {
      "text/plain": [
       "2"
      ]
     },
     "execution_count": 2,
     "metadata": {},
     "output_type": "execute_result"
    }
   ],
   "source": [
    "#chamando a função passando um parâmetro\n",
    "x(1)"
   ]
  },
  {
   "cell_type": "code",
   "execution_count": null,
   "metadata": {},
   "outputs": [],
   "source": []
  }
 ],
 "metadata": {
  "kernelspec": {
   "display_name": "Python 3",
   "language": "python",
   "name": "python3"
  },
  "language_info": {
   "codemirror_mode": {
    "name": "ipython",
    "version": 3
   },
   "file_extension": ".py",
   "mimetype": "text/x-python",
   "name": "python",
   "nbconvert_exporter": "python",
   "pygments_lexer": "ipython3",
   "version": "3.7.0"
  }
 },
 "nbformat": 4,
 "nbformat_minor": 2
}
