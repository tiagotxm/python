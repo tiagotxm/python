{
 "cells": [
  {
   "cell_type": "markdown",
   "metadata": {},
   "source": [
    "<b>Prevendo o preco da pizza baseado em um atributo da pizza que podemos observar.<br>\n",
    "Vamos modelar a relação entre o tamanho(diametro) e preco. <br>Ou seja, será elaborado um programa com scikitlearn e regressão linear(entender o comportamento de uma ou mais variaveis) que prevê o preco da pizza dado o seu tamanho</b>"
   ]
  },
  {
   "cell_type": "code",
   "execution_count": 3,
   "metadata": {},
   "outputs": [],
   "source": [
    "import matplotlib.pyplot as plt\n",
    "import numpy as np\n",
    "#isso funciona apenas no jupyter notebook para visualizaçao\n",
    "%matplotlib inline "
   ]
  },
  {
   "cell_type": "markdown",
   "metadata": {},
   "source": [
    "Importante ter dados históricos para aprendizagem supervisionada, para prever o futuro"
   ]
  },
  {
   "cell_type": "code",
   "execution_count": 5,
   "metadata": {},
   "outputs": [],
   "source": [
    "#Diametros(cm)\n",
    "diametros = [[7],[10],[15],[30],[35]]\n",
    "\n",
    "#precos(R$)\n",
    "precos=[[8],[11],[16],[38.5],[52]]\n"
   ]
  },
  {
   "cell_type": "markdown",
   "metadata": {},
   "source": [
    "Visualizando os dados em forma de plot"
   ]
  },
  {
   "cell_type": "code",
   "execution_count": 20,
   "metadata": {},
   "outputs": [
    {
     "data": {
      "image/png": "[encoded data removed]",
      "text/plain": [
       "<Figure size 432x288 with 1 Axes>"
      ]
     },
     "metadata": {
      "needs_background": "light"
     },
     "output_type": "display_data"
    }
   ],
   "source": [
    "plt.xlabel('Diâmetro(cm)')\n",
    "plt.ylabel('Preço(R$)')\n",
    "plt.title('Diâmetro x Preço')\n",
    "plt.plot(diametros,precos,'k.')\n",
    "plt.axis([0,50,0,60])\n",
    "plt.grid(True)\n",
    "plt.show()"
   ]
  },
  {
   "cell_type": "markdown",
   "metadata": {},
   "source": [
    "Existe uma relação positiva entre o diâmetro da pizza e o seu preço. Porem não quer dizer que existe uma relação de causa e feito, o aumento da pizza pode depender também do horário do dia, sabores, bairo, etc)"
   ]
  },
  {
   "cell_type": "code",
   "execution_count": 26,
   "metadata": {},
   "outputs": [],
   "source": [
    "#importar o pacote para regressao linear do skitlearning\n",
    "from sklearn.linear_model import LinearRegression"
   ]
  },
  {
   "cell_type": "code",
   "execution_count": 34,
   "metadata": {},
   "outputs": [],
   "source": [
    "#Diametros(cm)\n",
    "x = [[7],[10],[15],[30],[35]]\n",
    "\n",
    "#precos(R$)\n",
    "y=[[8],[11],[16],[38.5],[52]]"
   ]
  },
  {
   "cell_type": "code",
   "execution_count": 35,
   "metadata": {},
   "outputs": [],
   "source": [
    "modelo = LinearRegression()"
   ]
  },
  {
   "cell_type": "code",
   "execution_count": 36,
   "metadata": {},
   "outputs": [
    {
     "data": {
      "text/plain": [
       "sklearn.linear_model.base.LinearRegression"
      ]
     },
     "execution_count": 36,
     "metadata": {},
     "output_type": "execute_result"
    }
   ],
   "source": [
    "type(modelo)"
   ]
  },
  {
   "cell_type": "code",
   "execution_count": 37,
   "metadata": {},
   "outputs": [
    {
     "data": {
      "text/plain": [
       "LinearRegression(copy_X=True, fit_intercept=True, n_jobs=1, normalize=False)"
      ]
     },
     "execution_count": 37,
     "metadata": {},
     "output_type": "execute_result"
    }
   ],
   "source": [
    "#funcao fit() é utilizada para treinar o modelo com base nos atributos de entrada.\n",
    "#Irá entender o relacionamento matemático entre as duas variaveis\n",
    "modelo.fit(x,y)"
   ]
  },
  {
   "cell_type": "code",
   "execution_count": 42,
   "metadata": {},
   "outputs": [
    {
     "name": "stdout",
     "output_type": "stream",
     "text": [
      "Uma pizza com 20cm de diâmetro deve custar R$26.02\n"
     ]
    }
   ],
   "source": [
    "#prevendo o preco da pizza de 20cm de diâmetro\n",
    "#a funcao predict() é utilizada para prever a saida com base nos atributos de entrada\n",
    "print('Uma pizza com 20cm de diâmetro deve custar R$%.2f'%modelo.predict([20][0]))"
   ]
  },
  {
   "cell_type": "code",
   "execution_count": null,
   "metadata": {},
   "outputs": [],
   "source": []
  }
 ],
 "metadata": {
  "kernelspec": {
   "display_name": "Python 3",
   "language": "python",
   "name": "python3"
  },
  "language_info": {
   "codemirror_mode": {
    "name": "ipython",
    "version": 3
   },
   "file_extension": ".py",
   "mimetype": "text/x-python",
   "name": "python",
   "nbconvert_exporter": "python",
   "pygments_lexer": "ipython3",
   "version": "3.7.0"
  }
 },
 "nbformat": 4,
 "nbformat_minor": 2
}
