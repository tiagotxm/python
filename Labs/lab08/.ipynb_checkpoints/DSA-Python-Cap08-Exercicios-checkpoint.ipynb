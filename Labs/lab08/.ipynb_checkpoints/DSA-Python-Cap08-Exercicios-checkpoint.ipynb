{
 "cells": [
  {
   "cell_type": "markdown",
   "metadata": {},
   "source": [
    "# <font color='blue'>Data Science Academy - Python Fundamentos - Capítulo 8</font>\n",
    "\n",
    "## Download: http://github.com/dsacademybr"
   ]
  },
  {
   "cell_type": "markdown",
   "metadata": {},
   "source": [
    "### Exercícios Sobre Módulos Python Para Análise de Dados"
   ]
  },
  {
   "cell_type": "markdown",
   "metadata": {},
   "source": [
    "### ****** ATENÇÃO ******\n",
    "### Alguns dos exercícios podem requerer pesquisa adicional na documentação dos pacotes. Pesquise!"
   ]
  },
  {
   "cell_type": "markdown",
   "metadata": {},
   "source": [
    "### Exercício 1"
   ]
  },
  {
   "cell_type": "code",
   "execution_count": 43,
   "metadata": {},
   "outputs": [
    {
     "name": "stdout",
     "output_type": "stream",
     "text": [
      "Multiplicando array por 2\n",
      "CPU times: user 21 µs, sys: 1 µs, total: 22 µs\n",
      "Wall time: 26.9 µs\n",
      "Multiplicando lista por 2\n",
      "CPU times: user 97.6 ms, sys: 2.96 ms, total: 101 ms\n",
      "Wall time: 99.1 ms\n"
     ]
    }
   ],
   "source": [
    "import numpy as np\n",
    "\n",
    "# Crie um array NumPy com 1000000 e uma lista com 1000000.\n",
    "a=np.array([1000000])\n",
    "lst=list(range(1000000))\n",
    "# Multiplique cada elemento do array e da lista por 2 e calcule o tempo de execução com cada um dos objetos (use %time).\n",
    "\n",
    "print('Multiplicando array por 2')\n",
    "%time for i in a: i*2\n",
    "print('Multiplicando lista por 2')\n",
    "%time for i in lst: i*2\n",
    "\n",
    "# Qual objeto oferece melhor performance, array NumPy ou lista?\n",
    "#R:O array NumPy possui melhor performance"
   ]
  },
  {
   "cell_type": "markdown",
   "metadata": {},
   "source": [
    "### Exercício 2"
   ]
  },
  {
   "cell_type": "code",
   "execution_count": 67,
   "metadata": {},
   "outputs": [
    {
     "data": {
      "text/plain": [
       "array([0, 1, 2, 3, 4, 0, 0, 0, 8, 9])"
      ]
     },
     "execution_count": 67,
     "metadata": {},
     "output_type": "execute_result"
    }
   ],
   "source": [
    "# Exercício 2\n",
    "# Crie um array de 10 elementos\n",
    "elementos = np.arange(10)\n",
    "\n",
    "# Altere o valores de todos os elementos dos índices 5 a 8 para 0\n",
    "elementos[5:8:1]=0\n",
    "elementos"
   ]
  },
  {
   "cell_type": "markdown",
   "metadata": {},
   "source": [
    "### Exercício 3"
   ]
  },
  {
   "cell_type": "code",
   "execution_count": 90,
   "metadata": {},
   "outputs": [
    {
     "data": {
      "text/plain": [
       "array([4, 5, 6])"
      ]
     },
     "execution_count": 90,
     "metadata": {},
     "output_type": "execute_result"
    }
   ],
   "source": [
    "# Crie um array de 3 dimensões e imprima a dimensão 1 \n",
    "dim3=np.array([[1,2,3],[4,5,6],[7,8,9]])\n",
    "dim[1]"
   ]
  },
  {
   "cell_type": "markdown",
   "metadata": {},
   "source": [
    "### Exercício 4"
   ]
  },
  {
   "cell_type": "code",
   "execution_count": 118,
   "metadata": {},
   "outputs": [
    {
     "data": {
      "text/plain": [
       "array([1, 1, 9])"
      ]
     },
     "execution_count": 118,
     "metadata": {},
     "output_type": "execute_result"
    }
   ],
   "source": [
    "# Crie um array de duas dimensões (matriz).\n",
    "dim2=np.array([[1,2,5],[3,4,6],[1,1,9]])\n",
    "# Imprima os elementos da terceira linha da matriz\n",
    "dim2[2]\n"
   ]
  },
  {
   "cell_type": "code",
   "execution_count": 122,
   "metadata": {},
   "outputs": [
    {
     "data": {
      "text/plain": [
       "array([[2, 5],\n",
       "       [4, 6]])"
      ]
     },
     "execution_count": 122,
     "metadata": {},
     "output_type": "execute_result"
    }
   ],
   "source": [
    "# Imprima todos os elementos da primeira e segunda linhas e segunda e terceira colunas\n",
    "dim2[:2,1:]\n"
   ]
  },
  {
   "cell_type": "markdown",
   "metadata": {},
   "source": [
    "### Exercício 5"
   ]
  },
  {
   "cell_type": "code",
   "execution_count": 123,
   "metadata": {},
   "outputs": [
    {
     "data": {
      "text/plain": [
       "array([[ 0,  1,  2,  3,  4],\n",
       "       [ 5,  6,  7,  8,  9],\n",
       "       [10, 11, 12, 13, 14]])"
      ]
     },
     "execution_count": 123,
     "metadata": {},
     "output_type": "execute_result"
    }
   ],
   "source": [
    "# Calcule a transposta da matriz abaixo\n",
    "arr = np.arange(15).reshape((3, 5))\n",
    "arr"
   ]
  },
  {
   "cell_type": "code",
   "execution_count": 124,
   "metadata": {},
   "outputs": [
    {
     "data": {
      "text/plain": [
       "array([[ 0,  5, 10],\n",
       "       [ 1,  6, 11],\n",
       "       [ 2,  7, 12],\n",
       "       [ 3,  8, 13],\n",
       "       [ 4,  9, 14]])"
      ]
     },
     "execution_count": 124,
     "metadata": {},
     "output_type": "execute_result"
    }
   ],
   "source": [
    "arr.transpose()"
   ]
  },
  {
   "cell_type": "markdown",
   "metadata": {},
   "source": [
    "### Exercício 6"
   ]
  },
  {
   "cell_type": "code",
   "execution_count": 49,
   "metadata": {},
   "outputs": [
    {
     "name": "stdout",
     "output_type": "stream",
     "text": [
      "1.1\n",
      "2.2\n",
      "1.3\n",
      "1.4\n",
      "2.5\n",
      "\n",
      "\n"
     ]
    },
    {
     "data": {
      "text/plain": [
       "[1.1, 2.2, 1.3, 1.4, 2.5]"
      ]
     },
     "execution_count": 49,
     "metadata": {},
     "output_type": "execute_result"
    }
   ],
   "source": [
    "# Considere os 3 arrays abaixo\n",
    "# Retorne o valor do array xarr se o valor for True no array cond. Caso contrário, retorne o valor do array yarr.\n",
    "import numpy as np\n",
    "xarr = np.array([1.1, 1.2, 1.3, 1.4, 1.5])\n",
    "yarr = np.array([2.1, 2.2, 2.3, 2.4, 2.5])\n",
    "cond = np.array([True, False, True, True, False])\n",
    "\n",
    "for i in range(len(list(xarr))):\n",
    "    if cond[i] == True:\n",
    "        print(xarr[i])\n",
    "    else:\n",
    "        print(yarr[i])\n",
    "    \n",
    "\n",
    "#retornando com list comprehension\n",
    "#le-se: retorna x se a posicao cond[x] for verdadeiro, senao, retorno a posicao de yarr[x] de acordo com o tamanho de xarr\n",
    "resultado1 = [xarr[x] if cond[x] == True else yarr[x] for x in range(len(list(xarr))) ] \n",
    "\n",
    "print('\\n')\n",
    "\n",
    "resultado1"
   ]
  },
  {
   "cell_type": "markdown",
   "metadata": {},
   "source": [
    "### Exercício 7"
   ]
  },
  {
   "cell_type": "code",
   "execution_count": 78,
   "metadata": {},
   "outputs": [
    {
     "name": "stdout",
     "output_type": "stream",
     "text": [
      "conteudo de B: [0 1 2 3 4 5 6 7 8 9]\n"
     ]
    }
   ],
   "source": [
    "# Crie um array A com 10 elementos e salve o array em disco com a extensão npy\n",
    "import numpy as np\n",
    "import os\n",
    "\n",
    "A = np.arange(0,10,1)\n",
    "A2=str(A)\n",
    "\n",
    "arquivo = open(os.path.join('arquivo_teste.npy'),'w')\n",
    "arquivo.write(A2)\n",
    "arquivo.close\n",
    "# Depois carregue o array do disco no array B\n",
    "arquivo_leitura = open('arquivo_teste.npy','r')\n",
    "conteudo = arquivo_leitura.read()\n",
    "\n",
    "B = conteudo\n",
    "print('conteudo de B:',B)"
   ]
  },
  {
   "cell_type": "markdown",
   "metadata": {
    "collapsed": true
   },
   "source": [
    "### Exercício 8"
   ]
  },
  {
   "cell_type": "code",
   "execution_count": 2,
   "metadata": {},
   "outputs": [
    {
     "data": {
      "text/plain": [
       "0    c\n",
       "1    a\n",
       "2    d\n",
       "5    b\n",
       "dtype: object"
      ]
     },
     "execution_count": 2,
     "metadata": {},
     "output_type": "execute_result"
    }
   ],
   "source": [
    "# Considerando a série abaixo, imprima os valores únicos na série\n",
    "import pandas as pd\n",
    "obj = pd.Series(['c', 'a', 'd', 'a', 'a', 'b', 'b', 'c', 'c', 'a', 'b'])\n",
    "obj.drop_duplicates()"
   ]
  },
  {
   "cell_type": "markdown",
   "metadata": {
    "collapsed": true
   },
   "source": [
    "### Exercício 9"
   ]
  },
  {
   "cell_type": "code",
   "execution_count": 2,
   "metadata": {},
   "outputs": [
    {
     "data": {
      "text/plain": [
       "<Response [200]>"
      ]
     },
     "execution_count": 2,
     "metadata": {},
     "output_type": "execute_result"
    }
   ],
   "source": [
    "# Considerando o trecho de código que conecta em uma url na internet, imprima o dataframe conforme abaixo.\n",
    "import requests\n",
    "url = 'https://api.github.com/repos/pandas-dev/pandas/issues'\n",
    "resp = requests.get(url)\n",
    "resp"
   ]
  },
  {
   "cell_type": "code",
   "execution_count": 27,
   "metadata": {},
   "outputs": [
    {
     "data": {
      "text/html": [
       "<div>\n",
       "<style scoped>\n",
       "    .dataframe tbody tr th:only-of-type {\n",
       "        vertical-align: middle;\n",
       "    }\n",
       "\n",
       "    .dataframe tbody tr th {\n",
       "        vertical-align: top;\n",
       "    }\n",
       "\n",
       "    .dataframe thead th {\n",
       "        text-align: right;\n",
       "    }\n",
       "</style>\n",
       "<table border=\"1\" class=\"dataframe\">\n",
       "  <thead>\n",
       "    <tr style=\"text-align: right;\">\n",
       "      <th></th>\n",
       "      <th>Numbers</th>\n",
       "      <th>Title</th>\n",
       "      <th>Labels</th>\n",
       "      <th>State</th>\n",
       "    </tr>\n",
       "  </thead>\n",
       "  <tbody>\n",
       "    <tr>\n",
       "      <th>0</th>\n",
       "      <td>25981</td>\n",
       "      <td>CLN: PY2/3 builtin, httplib</td>\n",
       "      <td>[{'id': 49747336, 'node_id': 'MDU6TGFiZWw0OTc0...</td>\n",
       "      <td>open</td>\n",
       "    </tr>\n",
       "    <tr>\n",
       "      <th>1</th>\n",
       "      <td>25980</td>\n",
       "      <td>DEPR: Deprecate sort=None for union and implem...</td>\n",
       "      <td>[]</td>\n",
       "      <td>open</td>\n",
       "    </tr>\n",
       "    <tr>\n",
       "      <th>2</th>\n",
       "      <td>25978</td>\n",
       "      <td>The error when as_datetime acts on multiple ti...</td>\n",
       "      <td>[{'id': 76811, 'node_id': 'MDU6TGFiZWw3NjgxMQ=...</td>\n",
       "      <td>open</td>\n",
       "    </tr>\n",
       "    <tr>\n",
       "      <th>3</th>\n",
       "      <td>25977</td>\n",
       "      <td>REF: handling of max_colwidth parameter</td>\n",
       "      <td>[{'id': 13101118, 'node_id': 'MDU6TGFiZWwxMzEw...</td>\n",
       "      <td>open</td>\n",
       "    </tr>\n",
       "    <tr>\n",
       "      <th>4</th>\n",
       "      <td>25976</td>\n",
       "      <td>Change fname to path in to_parquet</td>\n",
       "      <td>[]</td>\n",
       "      <td>open</td>\n",
       "    </tr>\n",
       "    <tr>\n",
       "      <th>5</th>\n",
       "      <td>25975</td>\n",
       "      <td>add typing_extensions to environment and requi...</td>\n",
       "      <td>[{'id': 527603109, 'node_id': 'MDU6TGFiZWw1Mjc...</td>\n",
       "      <td>open</td>\n",
       "    </tr>\n",
       "    <tr>\n",
       "      <th>6</th>\n",
       "      <td>25974</td>\n",
       "      <td>Add dependency typing_extensions for type hints</td>\n",
       "      <td>[]</td>\n",
       "      <td>open</td>\n",
       "    </tr>\n",
       "    <tr>\n",
       "      <th>7</th>\n",
       "      <td>25973</td>\n",
       "      <td>[featureRequest] pd.DataFrame.iterdicts()</td>\n",
       "      <td>[]</td>\n",
       "      <td>open</td>\n",
       "    </tr>\n",
       "    <tr>\n",
       "      <th>8</th>\n",
       "      <td>25972</td>\n",
       "      <td>Unexpected behaviour of numpy.ufuncs for all N...</td>\n",
       "      <td>[]</td>\n",
       "      <td>open</td>\n",
       "    </tr>\n",
       "    <tr>\n",
       "      <th>9</th>\n",
       "      <td>25971</td>\n",
       "      <td>Groupby on single key should be accessible by ...</td>\n",
       "      <td>[]</td>\n",
       "      <td>open</td>\n",
       "    </tr>\n",
       "    <tr>\n",
       "      <th>10</th>\n",
       "      <td>25970</td>\n",
       "      <td>value_counts unexpected behaviour - bins and d...</td>\n",
       "      <td>[]</td>\n",
       "      <td>open</td>\n",
       "    </tr>\n",
       "    <tr>\n",
       "      <th>11</th>\n",
       "      <td>25969</td>\n",
       "      <td>Series iteration and to_dict methods *sometime...</td>\n",
       "      <td>[]</td>\n",
       "      <td>open</td>\n",
       "    </tr>\n",
       "    <tr>\n",
       "      <th>12</th>\n",
       "      <td>25968</td>\n",
       "      <td>ENH: Improve explanation when erroring on dta ...</td>\n",
       "      <td>[{'id': 104865385, 'node_id': 'MDU6TGFiZWwxMDQ...</td>\n",
       "      <td>open</td>\n",
       "    </tr>\n",
       "    <tr>\n",
       "      <th>13</th>\n",
       "      <td>25967</td>\n",
       "      <td>ENH: Allow poorly formatted stata files to be ...</td>\n",
       "      <td>[{'id': 104865385, 'node_id': 'MDU6TGFiZWwxMDQ...</td>\n",
       "      <td>open</td>\n",
       "    </tr>\n",
       "    <tr>\n",
       "      <th>14</th>\n",
       "      <td>25965</td>\n",
       "      <td>drop_duplicates throws error when series store...</td>\n",
       "      <td>[]</td>\n",
       "      <td>open</td>\n",
       "    </tr>\n",
       "    <tr>\n",
       "      <th>15</th>\n",
       "      <td>25964</td>\n",
       "      <td>BUG: Fix #25959 - Don't call .array in Datetim...</td>\n",
       "      <td>[{'id': 76811, 'node_id': 'MDU6TGFiZWw3NjgxMQ=...</td>\n",
       "      <td>open</td>\n",
       "    </tr>\n",
       "    <tr>\n",
       "      <th>16</th>\n",
       "      <td>25963</td>\n",
       "      <td>pytables tslib change in 0.24.2</td>\n",
       "      <td>[]</td>\n",
       "      <td>open</td>\n",
       "    </tr>\n",
       "    <tr>\n",
       "      <th>17</th>\n",
       "      <td>25961</td>\n",
       "      <td>Fix type annotation in pandas.compat.numpy.fun...</td>\n",
       "      <td>[{'id': 1280988427, 'node_id': 'MDU6TGFiZWwxMj...</td>\n",
       "      <td>open</td>\n",
       "    </tr>\n",
       "    <tr>\n",
       "      <th>18</th>\n",
       "      <td>25960</td>\n",
       "      <td>UnicodeDecodeError for Stata file</td>\n",
       "      <td>[{'id': 104865385, 'node_id': 'MDU6TGFiZWwxMDQ...</td>\n",
       "      <td>open</td>\n",
       "    </tr>\n",
       "    <tr>\n",
       "      <th>19</th>\n",
       "      <td>25959</td>\n",
       "      <td>Series.apply fails when the series is a timezo...</td>\n",
       "      <td>[{'id': 76811, 'node_id': 'MDU6TGFiZWw3NjgxMQ=...</td>\n",
       "      <td>open</td>\n",
       "    </tr>\n",
       "    <tr>\n",
       "      <th>20</th>\n",
       "      <td>25955</td>\n",
       "      <td>bug in to_html() with formatters=&lt;list&gt; and ma...</td>\n",
       "      <td>[{'id': 76811, 'node_id': 'MDU6TGFiZWw3NjgxMQ=...</td>\n",
       "      <td>open</td>\n",
       "    </tr>\n",
       "    <tr>\n",
       "      <th>21</th>\n",
       "      <td>25953</td>\n",
       "      <td>PERF: Fix performance regression with Series s...</td>\n",
       "      <td>[{'id': 8935311, 'node_id': 'MDU6TGFiZWw4OTM1M...</td>\n",
       "      <td>open</td>\n",
       "    </tr>\n",
       "    <tr>\n",
       "      <th>22</th>\n",
       "      <td>25952</td>\n",
       "      <td>Fix performance regression with Series operations</td>\n",
       "      <td>[{'id': 8935311, 'node_id': 'MDU6TGFiZWw4OTM1M...</td>\n",
       "      <td>open</td>\n",
       "    </tr>\n",
       "    <tr>\n",
       "      <th>23</th>\n",
       "      <td>25950</td>\n",
       "      <td>Fix Type Annotations in pandas/compat/numpy/fu...</td>\n",
       "      <td>[{'id': 1280988427, 'node_id': 'MDU6TGFiZWwxMj...</td>\n",
       "      <td>open</td>\n",
       "    </tr>\n",
       "    <tr>\n",
       "      <th>24</th>\n",
       "      <td>25949</td>\n",
       "      <td>Fix type annotation in pandas. version</td>\n",
       "      <td>[{'id': 1280988427, 'node_id': 'MDU6TGFiZWwxMj...</td>\n",
       "      <td>open</td>\n",
       "    </tr>\n",
       "    <tr>\n",
       "      <th>25</th>\n",
       "      <td>25948</td>\n",
       "      <td>Fix Type Annotations in pandas/_version.py</td>\n",
       "      <td>[{'id': 1280988427, 'node_id': 'MDU6TGFiZWwxMj...</td>\n",
       "      <td>open</td>\n",
       "    </tr>\n",
       "    <tr>\n",
       "      <th>26</th>\n",
       "      <td>25946</td>\n",
       "      <td>Speed up checking for NaN for floats</td>\n",
       "      <td>[{'id': 2822342, 'node_id': 'MDU6TGFiZWwyODIyM...</td>\n",
       "      <td>open</td>\n",
       "    </tr>\n",
       "    <tr>\n",
       "      <th>27</th>\n",
       "      <td>25945</td>\n",
       "      <td>Unable to open an S3 object with # in the URL</td>\n",
       "      <td>[{'id': 2301354, 'node_id': 'MDU6TGFiZWwyMzAxM...</td>\n",
       "      <td>open</td>\n",
       "    </tr>\n",
       "    <tr>\n",
       "      <th>28</th>\n",
       "      <td>25943</td>\n",
       "      <td>#25942 Added ArrayLike and Dtype to pandas._ty...</td>\n",
       "      <td>[{'id': 1280988427, 'node_id': 'MDU6TGFiZWwxMj...</td>\n",
       "      <td>open</td>\n",
       "    </tr>\n",
       "    <tr>\n",
       "      <th>29</th>\n",
       "      <td>25942</td>\n",
       "      <td>Add ArrayLike an Dtype definitions to pandas._...</td>\n",
       "      <td>[{'id': 1280988427, 'node_id': 'MDU6TGFiZWwxMj...</td>\n",
       "      <td>open</td>\n",
       "    </tr>\n",
       "  </tbody>\n",
       "</table>\n",
       "</div>"
      ],
      "text/plain": [
       "    Numbers  ...  State\n",
       "0     25981  ...   open\n",
       "1     25980  ...   open\n",
       "2     25978  ...   open\n",
       "3     25977  ...   open\n",
       "4     25976  ...   open\n",
       "5     25975  ...   open\n",
       "6     25974  ...   open\n",
       "7     25973  ...   open\n",
       "8     25972  ...   open\n",
       "9     25971  ...   open\n",
       "10    25970  ...   open\n",
       "11    25969  ...   open\n",
       "12    25968  ...   open\n",
       "13    25967  ...   open\n",
       "14    25965  ...   open\n",
       "15    25964  ...   open\n",
       "16    25963  ...   open\n",
       "17    25961  ...   open\n",
       "18    25960  ...   open\n",
       "19    25959  ...   open\n",
       "20    25955  ...   open\n",
       "21    25953  ...   open\n",
       "22    25952  ...   open\n",
       "23    25950  ...   open\n",
       "24    25949  ...   open\n",
       "25    25948  ...   open\n",
       "26    25946  ...   open\n",
       "27    25945  ...   open\n",
       "28    25943  ...   open\n",
       "29    25942  ...   open\n",
       "\n",
       "[30 rows x 4 columns]"
      ]
     },
     "execution_count": 27,
     "metadata": {},
     "output_type": "execute_result"
    }
   ],
   "source": [
    "from pandas import DataFrame\n",
    "\n",
    "tamanhoJson=len(resp.json())\n",
    "numbersValue = []\n",
    "titlesValue=[]\n",
    "labelsValue=[]\n",
    "stateValue=[]\n",
    "\n",
    "for i in range(tamanhoJson):\n",
    "    numbersValue.append(resp.json()[i]['number'])\n",
    "    \n",
    "for i in range(tamanhoJson):\n",
    "    titlesValue.append(resp.json()[i]['title'])\n",
    "\n",
    "for i in range(tamanhoJson):\n",
    "    labelsValue.append(resp.json()[i]['labels'])\n",
    "    \n",
    "for i in range(tamanhoJson):\n",
    "    stateValue.append(resp.json()[i]['state'])\n",
    "    \n",
    "    \n",
    "    \n",
    "data = {'Numbers':numbersValue,\n",
    "       'Title':titlesValue,\n",
    "       'Labels':labelsValue,\n",
    "       'State':stateValue}\n",
    "\n",
    "\n",
    "\n",
    "frame = DataFrame(data)\n",
    "frame\n",
    "    "
   ]
  },
  {
   "cell_type": "code",
   "execution_count": 20,
   "metadata": {},
   "outputs": [
    {
     "data": {
      "text/html": [
       "<div>\n",
       "<style scoped>\n",
       "    .dataframe tbody tr th:only-of-type {\n",
       "        vertical-align: middle;\n",
       "    }\n",
       "\n",
       "    .dataframe tbody tr th {\n",
       "        vertical-align: top;\n",
       "    }\n",
       "\n",
       "    .dataframe thead th {\n",
       "        text-align: right;\n",
       "    }\n",
       "</style>\n",
       "<table border=\"1\" class=\"dataframe\">\n",
       "  <thead>\n",
       "    <tr style=\"text-align: right;\">\n",
       "      <th></th>\n",
       "      <th>number</th>\n",
       "      <th>title</th>\n",
       "      <th>labels</th>\n",
       "      <th>state</th>\n",
       "    </tr>\n",
       "  </thead>\n",
       "  <tbody>\n",
       "    <tr>\n",
       "      <th>0</th>\n",
       "      <td>20975</td>\n",
       "      <td>Slicing columns with mixed types &lt;str&gt;,&lt;int&gt; f...</td>\n",
       "      <td>[]</td>\n",
       "      <td>open</td>\n",
       "    </tr>\n",
       "    <tr>\n",
       "      <th>1</th>\n",
       "      <td>20974</td>\n",
       "      <td>BUG: Fix drop_duplicates failure when DataFram...</td>\n",
       "      <td>[{'id': 76811, 'url': 'https://api.github.com/...</td>\n",
       "      <td>open</td>\n",
       "    </tr>\n",
       "    <tr>\n",
       "      <th>2</th>\n",
       "      <td>20970</td>\n",
       "      <td>performance when \"combining\" categories</td>\n",
       "      <td>[{'id': 78527356, 'url': 'https://api.github.c...</td>\n",
       "      <td>open</td>\n",
       "    </tr>\n",
       "    <tr>\n",
       "      <th>3</th>\n",
       "      <td>20969</td>\n",
       "      <td>Getting a ... in my CSV when using to_csv()</td>\n",
       "      <td>[]</td>\n",
       "      <td>open</td>\n",
       "    </tr>\n",
       "    <tr>\n",
       "      <th>4</th>\n",
       "      <td>20968</td>\n",
       "      <td>Sharey keyword for boxplot</td>\n",
       "      <td>[]</td>\n",
       "      <td>open</td>\n",
       "    </tr>\n",
       "    <tr>\n",
       "      <th>5</th>\n",
       "      <td>20967</td>\n",
       "      <td>Column can be extended beyond DataFrame's length</td>\n",
       "      <td>[]</td>\n",
       "      <td>open</td>\n",
       "    </tr>\n",
       "    <tr>\n",
       "      <th>6</th>\n",
       "      <td>20966</td>\n",
       "      <td>BUG: Fix wrong khash method definition</td>\n",
       "      <td>[{'id': 76811, 'url': 'https://api.github.com/...</td>\n",
       "      <td>open</td>\n",
       "    </tr>\n",
       "    <tr>\n",
       "      <th>7</th>\n",
       "      <td>20965</td>\n",
       "      <td>BUG: Fix combine_first converts other columns ...</td>\n",
       "      <td>[{'id': 76811, 'url': 'https://api.github.com/...</td>\n",
       "      <td>open</td>\n",
       "    </tr>\n",
       "    <tr>\n",
       "      <th>8</th>\n",
       "      <td>20964</td>\n",
       "      <td>BUG: Index with integer data and datetime64[ns...</td>\n",
       "      <td>[]</td>\n",
       "      <td>open</td>\n",
       "    </tr>\n",
       "    <tr>\n",
       "      <th>9</th>\n",
       "      <td>20962</td>\n",
       "      <td>df.rank() has different behavior for python2 a...</td>\n",
       "      <td>[]</td>\n",
       "      <td>open</td>\n",
       "    </tr>\n",
       "    <tr>\n",
       "      <th>10</th>\n",
       "      <td>20960</td>\n",
       "      <td>DOC: add reshaping visuals to the docs (Reshap...</td>\n",
       "      <td>[{'id': 134699, 'url': 'https://api.github.com...</td>\n",
       "      <td>open</td>\n",
       "    </tr>\n",
       "    <tr>\n",
       "      <th>11</th>\n",
       "      <td>20958</td>\n",
       "      <td>Using apply on a grouper works only if done af...</td>\n",
       "      <td>[{'id': 76811, 'url': 'https://api.github.com/...</td>\n",
       "      <td>open</td>\n",
       "    </tr>\n",
       "    <tr>\n",
       "      <th>12</th>\n",
       "      <td>20956</td>\n",
       "      <td>ENH: Return DatetimeIndex or TimedeltaIndex bi...</td>\n",
       "      <td>[{'id': 49597148, 'url': 'https://api.github.c...</td>\n",
       "      <td>open</td>\n",
       "    </tr>\n",
       "    <tr>\n",
       "      <th>13</th>\n",
       "      <td>20955</td>\n",
       "      <td>Building documentation fails with `ImportError...</td>\n",
       "      <td>[]</td>\n",
       "      <td>open</td>\n",
       "    </tr>\n",
       "    <tr>\n",
       "      <th>14</th>\n",
       "      <td>20954</td>\n",
       "      <td>Correlation inconsistencies between Series and...</td>\n",
       "      <td>[]</td>\n",
       "      <td>open</td>\n",
       "    </tr>\n",
       "    <tr>\n",
       "      <th>15</th>\n",
       "      <td>20951</td>\n",
       "      <td>Addressing multiindex raises TypeError if indi...</td>\n",
       "      <td>[]</td>\n",
       "      <td>open</td>\n",
       "    </tr>\n",
       "    <tr>\n",
       "      <th>16</th>\n",
       "      <td>20948</td>\n",
       "      <td>Indexing DataFrame with DateOffset is nearly i...</td>\n",
       "      <td>[]</td>\n",
       "      <td>open</td>\n",
       "    </tr>\n",
       "    <tr>\n",
       "      <th>17</th>\n",
       "      <td>20947</td>\n",
       "      <td>Allow drop bins when using the cut function</td>\n",
       "      <td>[{'id': 76812, 'url': 'https://api.github.com/...</td>\n",
       "      <td>open</td>\n",
       "    </tr>\n",
       "    <tr>\n",
       "      <th>18</th>\n",
       "      <td>20945</td>\n",
       "      <td>Data is mismatched with labels after stack wit...</td>\n",
       "      <td>[]</td>\n",
       "      <td>open</td>\n",
       "    </tr>\n",
       "    <tr>\n",
       "      <th>19</th>\n",
       "      <td>20944</td>\n",
       "      <td>Drop rows based on condition</td>\n",
       "      <td>[]</td>\n",
       "      <td>open</td>\n",
       "    </tr>\n",
       "    <tr>\n",
       "      <th>20</th>\n",
       "      <td>20943</td>\n",
       "      <td>pd.read_sql does not handle queries that retur...</td>\n",
       "      <td>[]</td>\n",
       "      <td>open</td>\n",
       "    </tr>\n",
       "    <tr>\n",
       "      <th>21</th>\n",
       "      <td>20940</td>\n",
       "      <td>unclear error with  read_sas</td>\n",
       "      <td>[]</td>\n",
       "      <td>open</td>\n",
       "    </tr>\n",
       "    <tr>\n",
       "      <th>22</th>\n",
       "      <td>20937</td>\n",
       "      <td>BUG: Series(DTI/TDI) loses the frequency infor...</td>\n",
       "      <td>[]</td>\n",
       "      <td>open</td>\n",
       "    </tr>\n",
       "    <tr>\n",
       "      <th>23</th>\n",
       "      <td>20936</td>\n",
       "      <td>__new__() missing 1 required positional argume...</td>\n",
       "      <td>[]</td>\n",
       "      <td>open</td>\n",
       "    </tr>\n",
       "    <tr>\n",
       "      <th>24</th>\n",
       "      <td>20932</td>\n",
       "      <td>API: expose `axis` keyword in pandas.core.algo...</td>\n",
       "      <td>[{'id': 35818298, 'url': 'https://api.github.c...</td>\n",
       "      <td>open</td>\n",
       "    </tr>\n",
       "    <tr>\n",
       "      <th>25</th>\n",
       "      <td>20930</td>\n",
       "      <td>DOC: Index.get_loc Cannot Accept List-like Tol...</td>\n",
       "      <td>[]</td>\n",
       "      <td>open</td>\n",
       "    </tr>\n",
       "    <tr>\n",
       "      <th>26</th>\n",
       "      <td>20928</td>\n",
       "      <td>Added script to fetch wheels [ci skip]</td>\n",
       "      <td>[{'id': 131473665, 'url': 'https://api.github....</td>\n",
       "      <td>open</td>\n",
       "    </tr>\n",
       "    <tr>\n",
       "      <th>27</th>\n",
       "      <td>20927</td>\n",
       "      <td>read_sas OverflowError: int too big to convert...</td>\n",
       "      <td>[]</td>\n",
       "      <td>open</td>\n",
       "    </tr>\n",
       "    <tr>\n",
       "      <th>28</th>\n",
       "      <td>20926</td>\n",
       "      <td>BLD: Lint for invalid files in wheels / packages</td>\n",
       "      <td>[{'id': 129350, 'url': 'https://api.github.com...</td>\n",
       "      <td>open</td>\n",
       "    </tr>\n",
       "    <tr>\n",
       "      <th>29</th>\n",
       "      <td>20925</td>\n",
       "      <td>Series.reset_index(level_name, drop=True) acce...</td>\n",
       "      <td>[{'id': 42670965, 'url': 'https://api.github.c...</td>\n",
       "      <td>open</td>\n",
       "    </tr>\n",
       "  </tbody>\n",
       "</table>\n",
       "</div>"
      ],
      "text/plain": [
       "    number                                              title  \\\n",
       "0    20975  Slicing columns with mixed types <str>,<int> f...   \n",
       "1    20974  BUG: Fix drop_duplicates failure when DataFram...   \n",
       "2    20970            performance when \"combining\" categories   \n",
       "3    20969        Getting a ... in my CSV when using to_csv()   \n",
       "4    20968                         Sharey keyword for boxplot   \n",
       "5    20967   Column can be extended beyond DataFrame's length   \n",
       "6    20966             BUG: Fix wrong khash method definition   \n",
       "7    20965  BUG: Fix combine_first converts other columns ...   \n",
       "8    20964  BUG: Index with integer data and datetime64[ns...   \n",
       "9    20962  df.rank() has different behavior for python2 a...   \n",
       "10   20960  DOC: add reshaping visuals to the docs (Reshap...   \n",
       "11   20958  Using apply on a grouper works only if done af...   \n",
       "12   20956  ENH: Return DatetimeIndex or TimedeltaIndex bi...   \n",
       "13   20955  Building documentation fails with `ImportError...   \n",
       "14   20954  Correlation inconsistencies between Series and...   \n",
       "15   20951  Addressing multiindex raises TypeError if indi...   \n",
       "16   20948  Indexing DataFrame with DateOffset is nearly i...   \n",
       "17   20947        Allow drop bins when using the cut function   \n",
       "18   20945  Data is mismatched with labels after stack wit...   \n",
       "19   20944                       Drop rows based on condition   \n",
       "20   20943  pd.read_sql does not handle queries that retur...   \n",
       "21   20940                       unclear error with  read_sas   \n",
       "22   20937  BUG: Series(DTI/TDI) loses the frequency infor...   \n",
       "23   20936  __new__() missing 1 required positional argume...   \n",
       "24   20932  API: expose `axis` keyword in pandas.core.algo...   \n",
       "25   20930  DOC: Index.get_loc Cannot Accept List-like Tol...   \n",
       "26   20928             Added script to fetch wheels [ci skip]   \n",
       "27   20927  read_sas OverflowError: int too big to convert...   \n",
       "28   20926   BLD: Lint for invalid files in wheels / packages   \n",
       "29   20925  Series.reset_index(level_name, drop=True) acce...   \n",
       "\n",
       "                                               labels state  \n",
       "0                                                  []  open  \n",
       "1   [{'id': 76811, 'url': 'https://api.github.com/...  open  \n",
       "2   [{'id': 78527356, 'url': 'https://api.github.c...  open  \n",
       "3                                                  []  open  \n",
       "4                                                  []  open  \n",
       "5                                                  []  open  \n",
       "6   [{'id': 76811, 'url': 'https://api.github.com/...  open  \n",
       "7   [{'id': 76811, 'url': 'https://api.github.com/...  open  \n",
       "8                                                  []  open  \n",
       "9                                                  []  open  \n",
       "10  [{'id': 134699, 'url': 'https://api.github.com...  open  \n",
       "11  [{'id': 76811, 'url': 'https://api.github.com/...  open  \n",
       "12  [{'id': 49597148, 'url': 'https://api.github.c...  open  \n",
       "13                                                 []  open  \n",
       "14                                                 []  open  \n",
       "15                                                 []  open  \n",
       "16                                                 []  open  \n",
       "17  [{'id': 76812, 'url': 'https://api.github.com/...  open  \n",
       "18                                                 []  open  \n",
       "19                                                 []  open  \n",
       "20                                                 []  open  \n",
       "21                                                 []  open  \n",
       "22                                                 []  open  \n",
       "23                                                 []  open  \n",
       "24  [{'id': 35818298, 'url': 'https://api.github.c...  open  \n",
       "25                                                 []  open  \n",
       "26  [{'id': 131473665, 'url': 'https://api.github....  open  \n",
       "27                                                 []  open  \n",
       "28  [{'id': 129350, 'url': 'https://api.github.com...  open  \n",
       "29  [{'id': 42670965, 'url': 'https://api.github.c...  open  "
      ]
     },
     "execution_count": 20,
     "metadata": {},
     "output_type": "execute_result"
    }
   ],
   "source": [
    "#dataframe esperado"
   ]
  },
  {
   "cell_type": "markdown",
   "metadata": {},
   "source": [
    "### Exercício 10"
   ]
  },
  {
   "cell_type": "code",
   "execution_count": 57,
   "metadata": {},
   "outputs": [
    {
     "data": {
      "text/html": [
       "<div>\n",
       "<style scoped>\n",
       "    .dataframe tbody tr th:only-of-type {\n",
       "        vertical-align: middle;\n",
       "    }\n",
       "\n",
       "    .dataframe tbody tr th {\n",
       "        vertical-align: top;\n",
       "    }\n",
       "\n",
       "    .dataframe thead th {\n",
       "        text-align: right;\n",
       "    }\n",
       "</style>\n",
       "<table border=\"1\" class=\"dataframe\">\n",
       "  <thead>\n",
       "    <tr style=\"text-align: right;\">\n",
       "      <th></th>\n",
       "      <th>Coluna 1</th>\n",
       "      <th>Coluna 2</th>\n",
       "      <th>Coluna 3</th>\n",
       "    </tr>\n",
       "  </thead>\n",
       "  <tbody>\n",
       "    <tr>\n",
       "      <th>0</th>\n",
       "      <td>tiago</td>\n",
       "      <td>99999999</td>\n",
       "      <td>2432342342</td>\n",
       "    </tr>\n",
       "    <tr>\n",
       "      <th>1</th>\n",
       "      <td>joao</td>\n",
       "      <td>99999999</td>\n",
       "      <td>2432332342</td>\n",
       "    </tr>\n",
       "    <tr>\n",
       "      <th>2</th>\n",
       "      <td>jorge</td>\n",
       "      <td>99994858</td>\n",
       "      <td>1438342342</td>\n",
       "    </tr>\n",
       "    <tr>\n",
       "      <th>3</th>\n",
       "      <td>maria</td>\n",
       "      <td>95708392</td>\n",
       "      <td>6439342342</td>\n",
       "    </tr>\n",
       "    <tr>\n",
       "      <th>4</th>\n",
       "      <td>bruna</td>\n",
       "      <td>99999900</td>\n",
       "      <td>8432342442</td>\n",
       "    </tr>\n",
       "  </tbody>\n",
       "</table>\n",
       "</div>"
      ],
      "text/plain": [
       "  Coluna 1  Coluna 2    Coluna 3\n",
       "0    tiago  99999999  2432342342\n",
       "1     joao  99999999  2432332342\n",
       "2    jorge  99994858  1438342342\n",
       "3    maria  95708392  6439342342\n",
       "4    bruna  99999900  8432342442"
      ]
     },
     "execution_count": 57,
     "metadata": {},
     "output_type": "execute_result"
    }
   ],
   "source": [
    "# Crie um banco de dados no SQLite, crie uma tabela, insira registros, \n",
    "# consulte a tabela e retorne os dados em dataframe do Pandas\n",
    "\n",
    "import sqlite3\n",
    "conn=sqlite3.connect('banco_lab08_ex10.db')\n",
    "\n",
    "#permite executar query\n",
    "cur=conn.cursor()\n",
    "\n",
    "cur.execute('select * from clientes')\n",
    "\n",
    "col1=[]\n",
    "col2=[]\n",
    "col3=[]\n",
    "\n",
    "for i in cur.fetchall():\n",
    "    col1.append(i[0])\n",
    "    col2.append(i[1])\n",
    "    col3.append(i[2])\n",
    "\n",
    "\n",
    "\n",
    "data = {'Coluna 1':col1,\n",
    "       'Coluna 2': col2,\n",
    "       'Coluna 3': col3}\n",
    "\n",
    "frame = DataFrame(data)\n",
    "frame"
   ]
  },
  {
   "cell_type": "markdown",
   "metadata": {},
   "source": [
    "# Fim"
   ]
  },
  {
   "cell_type": "markdown",
   "metadata": {},
   "source": [
    "### Obrigado - Data Science Academy - <a href=\"http://facebook.com/dsacademybr\">facebook.com/dsacademybr</a>"
   ]
  }
 ],
 "metadata": {
  "kernelspec": {
   "display_name": "Python 3",
   "language": "python",
   "name": "python3"
  },
  "language_info": {
   "codemirror_mode": {
    "name": "ipython",
    "version": 3
   },
   "file_extension": ".py",
   "mimetype": "text/x-python",
   "name": "python",
   "nbconvert_exporter": "python",
   "pygments_lexer": "ipython3",
   "version": "3.7.0"
  }
 },
 "nbformat": 4,
 "nbformat_minor": 1
}
